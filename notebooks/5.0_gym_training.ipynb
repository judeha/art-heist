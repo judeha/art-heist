{
 "cells": [
  {
   "cell_type": "code",
   "execution_count": 1,
   "metadata": {},
   "outputs": [],
   "source": [
    "import numpy as np\n",
    "import torch\n",
    "import torch.nn as nn\n",
    "import gym"
   ]
  },
  {
   "cell_type": "code",
   "execution_count": 2,
   "metadata": {},
   "outputs": [],
   "source": [
    "env = gym.make('CartPole-v1')"
   ]
  },
  {
   "cell_type": "code",
   "execution_count": 10,
   "metadata": {},
   "outputs": [],
   "source": [
    "obs = env.reset()[0]"
   ]
  },
  {
   "cell_type": "code",
   "execution_count": 11,
   "metadata": {},
   "outputs": [
    {
     "data": {
      "text/plain": [
       "(4,)"
      ]
     },
     "execution_count": 11,
     "metadata": {},
     "output_type": "execute_result"
    }
   ],
   "source": [
    "obs.shape"
   ]
  },
  {
   "cell_type": "code",
   "execution_count": 15,
   "metadata": {},
   "outputs": [],
   "source": [
    "actor = nn.Sequential(\n",
    "    nn.Linear(4, 32), nn.ReLU(), nn.Linear(32, env.action_space.n), nn.Softmax()\n",
    ")\n",
    "\n",
    "critic = nn.Sequential(\n",
    "    nn.Linear(4, 32), nn.ReLU(), nn.Linear(32, 1)\n",
    ")"
   ]
  },
  {
   "cell_type": "code",
   "execution_count": 21,
   "metadata": {},
   "outputs": [],
   "source": [
    "actor_optimizer = torch.optim.Adam(actor.parameters(), lr=0.001)\n",
    "critic_optimizer = torch.optim.Adam(critic.parameters(), lr=0.001)"
   ]
  },
  {
   "cell_type": "code",
   "execution_count": 59,
   "metadata": {},
   "outputs": [
    {
     "name": "stdout",
     "output_type": "stream",
     "text": [
      "State:  (4,)\n",
      "Action probs:  torch.Size([2])\n",
      "Action:  0\n",
      "torch.Size([1])\n",
      "State value:  tensor([24.5412], grad_fn=<ViewBackward0>)\n",
      "Advantage:  tensor([0.4657], grad_fn=<SubBackward0>)\n",
      "tensor([-0.], grad_fn=<MulBackward0>)\n",
      "tensor([0.2169], grad_fn=<PowBackward0>)\n",
      "Action probs:  torch.Size([2])\n",
      "Action:  0\n",
      "torch.Size([1])\n",
      "State value:  tensor([24.5599], grad_fn=<ViewBackward0>)\n",
      "Advantage:  tensor([0.1605], grad_fn=<SubBackward0>)\n",
      "tensor([-0.], grad_fn=<MulBackward0>)\n",
      "tensor([0.0258], grad_fn=<PowBackward0>)\n",
      "Action probs:  torch.Size([2])\n",
      "Action:  0\n",
      "torch.Size([1])\n",
      "State value:  tensor([24.5787], grad_fn=<ViewBackward0>)\n",
      "Advantage:  tensor([0.1783], grad_fn=<SubBackward0>)\n",
      "tensor([-0.], grad_fn=<MulBackward0>)\n",
      "tensor([0.0318], grad_fn=<PowBackward0>)\n",
      "Action probs:  torch.Size([2])\n",
      "Action:  0\n",
      "torch.Size([1])\n",
      "State value:  tensor([24.5975], grad_fn=<ViewBackward0>)\n",
      "Advantage:  tensor([0.8165], grad_fn=<SubBackward0>)\n",
      "tensor([-0.], grad_fn=<MulBackward0>)\n",
      "tensor([0.6668], grad_fn=<PowBackward0>)\n",
      "Episode 0, Reward: 4.0\n"
     ]
    }
   ],
   "source": [
    "# Main training loop\n",
    "num_episodes = 1\n",
    "gamma = 0.99\n",
    "\n",
    "for episode in range(num_episodes):\n",
    "    state = env.reset()[0]\n",
    "    print(\"State: \", state.shape)\n",
    "    episode_reward = 0\n",
    "\n",
    "    for t in range(1, 5):  # Limit the number of time steps\n",
    "            # Choose an action using the actor\n",
    "            action_probs = actor(torch.from_numpy(state).to(torch.float))\n",
    "            print(\"Action probs: \", action_probs.shape)\n",
    "            action = np.random.choice(env.action_space.n, p=action_probs.detach().numpy())\n",
    "            print(\"Action: \", action)\n",
    "\n",
    "            # Take the chosen action and observe the next state and reward\n",
    "            next_state, reward, done, _, _ = env.step(action)\n",
    "\n",
    "            # Compute the advantage\n",
    "            print(critic(torch.from_numpy(state).to(torch.float)).shape)\n",
    "            state_value = critic(torch.from_numpy(state).to(torch.float))\n",
    "            print(\"State value: \", state_value)\n",
    "            next_state_value = critic(torch.from_numpy(next_state).to(torch.float)) # NOTE: do not do .detach().item() here in order to keep grad_fn\n",
    "            advantage = reward + gamma * next_state_value - state_value\n",
    "            print(\"Advantage: \", advantage)\n",
    "\n",
    "            # Compute actor and critic losses\n",
    "            actor_loss = -torch.log(action_probs[action]) * advantage\n",
    "            print(actor_loss)\n",
    "            critic_loss = torch.square(advantage)\n",
    "            print(critic_loss)\n",
    "\n",
    "            actor_loss.backward(retain_graph=True) # needed: otherwise intermediary results get deleted before critic_loss can backprop\n",
    "            actor_optimizer.step()\n",
    "\n",
    "            critic_loss.backward()\n",
    "            critic_optimizer.step()\n",
    "\n",
    "            episode_reward += reward\n",
    "\n",
    "            if done:\n",
    "                break\n",
    "\n",
    "    if episode % 10 == 0:\n",
    "        print(f\"Episode {episode}, Reward: {episode_reward}\")\n",
    "\n",
    "env.close()"
   ]
  }
 ],
 "metadata": {
  "kernelspec": {
   "display_name": "venv",
   "language": "python",
   "name": "python3"
  },
  "language_info": {
   "codemirror_mode": {
    "name": "ipython",
    "version": 3
   },
   "file_extension": ".py",
   "mimetype": "text/x-python",
   "name": "python",
   "nbconvert_exporter": "python",
   "pygments_lexer": "ipython3",
   "version": "3.9.2"
  }
 },
 "nbformat": 4,
 "nbformat_minor": 2
}
