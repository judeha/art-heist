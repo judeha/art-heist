{
 "cells": [
  {
   "cell_type": "code",
   "execution_count": 5,
   "metadata": {},
   "outputs": [
    {
     "name": "stdout",
     "output_type": "stream",
     "text": [
      "The autoreload extension is already loaded. To reload it, use:\n",
      "  %reload_ext autoreload\n"
     ]
    }
   ],
   "source": [
    "import pandas as pd\n",
    "import numpy as np\n",
    "import random\n",
    "import tqdm\n",
    "import gc\n",
    "gc.enable()\n",
    "\n",
    "%load_ext autoreload\n",
    "%autoreload 2\n",
    "\n",
    "import torch\n",
    "import torch.nn as nn\n",
    "import torch.nn.functional as F\n",
    "from torch_geometric.data import download_url, extract_zip, HeteroData\n",
    "from torch_geometric.loader import LinkNeighborLoader\n",
    "from torch_geometric.nn import SAGEConv, to_hetero\n",
    "import torch_geometric.transforms as T"
   ]
  },
  {
   "cell_type": "code",
   "execution_count": 6,
   "metadata": {},
   "outputs": [
    {
     "name": "stderr",
     "output_type": "stream",
     "text": [
      "Using existing file ml-latest-small.zip\n",
      "Extracting ./ml-latest-small.zip\n"
     ]
    }
   ],
   "source": [
    "url = 'https://files.grouplens.org/datasets/movielens/ml-latest-small.zip'\n",
    "extract_zip(download_url(url, '.'), '.')\n",
    "\n",
    "movies_path = './ml-latest-small/movies.csv'\n",
    "ratings_path = './ml-latest-small/ratings.csv'"
   ]
  },
  {
   "cell_type": "code",
   "execution_count": 7,
   "metadata": {},
   "outputs": [
    {
     "name": "stdout",
     "output_type": "stream",
     "text": [
      "                                      title  \\\n",
      "movieId                                       \n",
      "1                          Toy Story (1995)   \n",
      "2                            Jumanji (1995)   \n",
      "3                   Grumpier Old Men (1995)   \n",
      "4                  Waiting to Exhale (1995)   \n",
      "5        Father of the Bride Part II (1995)   \n",
      "\n",
      "                                              genres  \n",
      "movieId                                               \n",
      "1        Adventure|Animation|Children|Comedy|Fantasy  \n",
      "2                         Adventure|Children|Fantasy  \n",
      "3                                     Comedy|Romance  \n",
      "4                               Comedy|Drama|Romance  \n",
      "5                                             Comedy  \n"
     ]
    }
   ],
   "source": [
    "# Load movies data\n",
    "movies_df = pd.read_csv(movies_path, index_col='movieId')\n",
    "print(movies_df.head())"
   ]
  },
  {
   "cell_type": "code",
   "execution_count": 8,
   "metadata": {},
   "outputs": [
    {
     "name": "stdout",
     "output_type": "stream",
     "text": [
      "         (no genres listed)  Action  Adventure  Animation  Comedy\n",
      "movieId                                                          \n",
      "1                         0       0          1          1       1\n",
      "2                         0       0          1          0       0\n",
      "3                         0       0          0          0       1\n",
      "4                         0       0          0          0       1\n",
      "5                         0       0          0          0       1\n",
      "Movie features:  torch.Size([9742, 20])\n"
     ]
    }
   ],
   "source": [
    "# Create indicator movie genre variables\n",
    "genres = movies_df.genres.str.get_dummies('|')\n",
    "print(genres[['(no genres listed)', 'Action', 'Adventure', 'Animation', 'Comedy']].head())\n",
    "\n",
    "# Create tensor to hold movie features (20 genre indicators)\n",
    "movie_feat = torch.from_numpy(genres.values).to(torch.float)\n",
    "print(\"Movie features: \", movie_feat.size())"
   ]
  },
  {
   "cell_type": "code",
   "execution_count": 9,
   "metadata": {},
   "outputs": [
    {
     "name": "stdout",
     "output_type": "stream",
     "text": [
      "Movie features:  torch.Size([9742, 20])\n"
     ]
    }
   ],
   "source": [
    "movie_feat = torch.from_numpy(genres.values).to(torch.float)\n",
    "print(\"Movie features: \", movie_feat.size())"
   ]
  },
  {
   "cell_type": "code",
   "execution_count": 10,
   "metadata": {},
   "outputs": [
    {
     "name": "stdout",
     "output_type": "stream",
     "text": [
      "   userId  movieId  rating  timestamp\n",
      "0       1        1     4.0  964982703\n",
      "1       1        3     4.0  964981247\n",
      "2       1        6     4.0  964982224\n",
      "3       1       47     5.0  964983815\n",
      "4       1       50     5.0  964982931\n"
     ]
    }
   ],
   "source": [
    "# Load ratings data\n",
    "ratings_df = pd.read_csv(ratings_path)\n",
    "print(ratings_df.head())"
   ]
  },
  {
   "cell_type": "code",
   "execution_count": 11,
   "metadata": {},
   "outputs": [],
   "source": [
    "# Create dummy user data\n",
    "fname_pool = ['Amy','Bob','Charles','David','Elena','Fahim','George','Harriet','Isabel','James',\n",
    "              'Katherine','Laith','Mary','Nora','Oliver','Percy','Quincy','Rachel','Stewart']\n",
    "lname_pool = ['Adams','Bamford','Clint','Davids','Ellsworth','Finn','Garcia','Harlow','Irwin','Johnson',\n",
    "              'Kringle','Luo','Mann','Navarro','Oswald','Werther','Yee']\n",
    "\n",
    "users_df = pd.DataFrame()\n",
    "for _, user in enumerate(ratings_df.userId.unique()):\n",
    "    # tmp_df = pd.DataFrame(data={\n",
    "    #     'userId'            : user,\n",
    "    #     'name'              : f\"{random.choice(fname_pool)} {random.choice(lname_pool)}\",\n",
    "    # }, index=[idx])\n",
    "    tmp_df = ratings_df[ratings_df.userId==user]\n",
    "    try:\n",
    "        tmp_sum = genres.iloc[tmp_df.movieId.values].sum() # How many movies of each genre has user watched?\n",
    "    except: # running into indexing problems halfway through (tried iterrows)\n",
    "        indexable = []\n",
    "        for x in tmp_df.movieId.values:\n",
    "            try:\n",
    "                genres[x]\n",
    "                indexable.append(x)\n",
    "            except:\n",
    "                pass\n",
    "        tmp_sum = genres.iloc[indexable].sum()\n",
    "    tmp_df = pd.DataFrame(tmp_sum).T\n",
    "    tmp_df.index = [user]\n",
    "    tmp_df.loc[:,'name'] = f\"{random.choice(fname_pool)} {random.choice(lname_pool)}\"\n",
    "    users_df = pd.concat([users_df,tmp_df])"
   ]
  },
  {
   "cell_type": "code",
   "execution_count": 12,
   "metadata": {},
   "outputs": [
    {
     "name": "stdout",
     "output_type": "stream",
     "text": [
      "   (no genres listed)  Action  Adventure  Animation  Children  Comedy  Crime  \\\n",
      "1                   0      37         27         10        18      65     26   \n",
      "2                   0       0          0          0         0       0      0   \n",
      "3                   0       0          0          0         0       0      0   \n",
      "4                   0      39         21          5        12      69     26   \n",
      "5                   0      13          6          3         5      14      2   \n",
      "\n",
      "   Documentary  Drama  Fantasy  ...  Horror  IMAX  Musical  Mystery  Romance  \\\n",
      "1            6    107       13  ...      30     0        8       14       40   \n",
      "2            0      0        0  ...       0     0        0        0        0   \n",
      "3            0      0        0  ...       0     0        0        0        0   \n",
      "4            4    110       13  ...      24     0        5       14       47   \n",
      "5            1     17        3  ...       4     0        1        1        6   \n",
      "\n",
      "   Sci-Fi  Thriller  War  Western            name  \n",
      "1      17        49   10        2  Oliver Navarro  \n",
      "2       0         0    0        0   Oliver Oswald  \n",
      "3       0         0    0        0     Isabel Finn  \n",
      "4      19        34    9        5   Harriet Irwin  \n",
      "5       6        10    0        1      Bob Harlow  \n",
      "\n",
      "[5 rows x 21 columns]\n",
      "User features:  torch.Size([610, 20])\n"
     ]
    }
   ],
   "source": [
    "print(users_df.head())\n",
    "\n",
    "# Detach user features\n",
    "user_feat = torch.from_numpy(users_df.drop(columns=['name']).values).to(torch.float)\n",
    "print(\"User features: \", user_feat.shape)"
   ]
  },
  {
   "cell_type": "code",
   "execution_count": 13,
   "metadata": {},
   "outputs": [
    {
     "name": "stdout",
     "output_type": "stream",
     "text": [
      "   userId  mappedId\n",
      "0       1         0\n",
      "1       2         1\n",
      "2       3         2\n",
      "3       4         3\n",
      "4       5         4\n",
      "   movieId  mappedId\n",
      "0        1         0\n",
      "1        3         1\n",
      "2        6         2\n",
      "3       47         3\n",
      "4       50         4\n"
     ]
    }
   ],
   "source": [
    "# Create mappings due to indexing problems\n",
    "unique_user_id = ratings_df.userId.unique()\n",
    "unique_user_id = pd.DataFrame(data={\n",
    "    'userId': unique_user_id,\n",
    "    'mappedId': pd.RangeIndex(len(unique_user_id))\n",
    "})\n",
    "print(unique_user_id.head())\n",
    "\n",
    "unique_movie_id = ratings_df.movieId.unique()\n",
    "unique_movie_id = pd.DataFrame(data={\n",
    "    'movieId': unique_movie_id,\n",
    "    'mappedId': pd.RangeIndex(len(unique_movie_id))\n",
    "})\n",
    "print(unique_movie_id.head())"
   ]
  },
  {
   "cell_type": "code",
   "execution_count": 14,
   "metadata": {},
   "outputs": [
    {
     "name": "stdout",
     "output_type": "stream",
     "text": [
      "tensor([  0,   0,   0,  ..., 609, 609, 609]) torch.Size([100836])\n",
      "tensor([   0,    1,    2,  ..., 3121, 1392, 2873]) torch.Size([100836])\n"
     ]
    }
   ],
   "source": [
    "ratings_user_id = pd.merge(ratings_df.userId, unique_user_id,\n",
    "                           left_on='userId', right_on='userId', how='left')\n",
    "ratings_user_id = torch.from_numpy(ratings_user_id.mappedId.values)\n",
    "ratings_movie_id = pd.merge(ratings_df.movieId, unique_movie_id,\n",
    "                            left_on='movieId', right_on='movieId')\n",
    "ratings_movie_id = torch.from_numpy(ratings_movie_id.mappedId.values)\n",
    "\n",
    "# ratings_user_id = 1st endpoint of ratings, ratings_movie_id = 2nd endpoint \n",
    "print(ratings_user_id, ratings_user_id.shape)\n",
    "print(ratings_movie_id, ratings_movie_id.shape)\n",
    "# TODO: unsuer why the mappings are necessary"
   ]
  },
  {
   "cell_type": "code",
   "execution_count": 15,
   "metadata": {},
   "outputs": [
    {
     "name": "stdout",
     "output_type": "stream",
     "text": [
      "tensor([[   0,    0,    0,  ...,  609,  609,  609],\n",
      "        [   0,    1,    2,  ..., 3121, 1392, 2873]])\n"
     ]
    }
   ],
   "source": [
    "edge_index_user_to_movie = torch.stack([ratings_user_id, ratings_movie_id], dim=0)\n",
    "print(edge_index_user_to_movie)"
   ]
  },
  {
   "cell_type": "code",
   "execution_count": 16,
   "metadata": {},
   "outputs": [],
   "source": [
    "# Create data object\n",
    "data = HeteroData()\n",
    "\n",
    "# Save node indices\n",
    "data[\"user\"].node_id = torch.arange(len(unique_user_id))\n",
    "data[\"movie\"].node_id = torch.arange(len(unique_movie_id))\n",
    "\n",
    "# Add node features\n",
    "data[\"movie\"].x = movie_feat\n",
    "data[\"user\"].x = user_feat\n",
    "\n",
    "# Save edge indices\n",
    "data[\"user\", \"rates\", \"movie\"].edge_index = edge_index_user_to_movie # has shape (2, num_edges)\n",
    "\n",
    "# Add edge features (timestamp normalized)\n",
    "data[\"user\", \"rates\", \"movie\"].edge_attr = torch.from_numpy(ratings_df.timestamp.values).to(torch.float) / ratings_df.timestamp.min()\n",
    "\n",
    "# Add edge labels (regression)\n",
    "data[\"user\", \"rates\", \"movie\"].edge_label  = torch.from_numpy(ratings_df.rating.values).to(torch.float)\n",
    "\n",
    "# Add reverse edge\n",
    "data = T.ToUndirected()(data)"
   ]
  },
  {
   "cell_type": "code",
   "execution_count": null,
   "metadata": {},
   "outputs": [],
   "source": [
    "# # Skipping train, val, test split -> we will have multiple graphs\n",
    "# transform = T.RandomLinkSplit(\n",
    "#     num_val=0.1,\n",
    "#     num_test=0.1,\n",
    "#     disjoint_train_ratio=0.3,\n",
    "#     neg_sampling_ratio=1,\n",
    "#     add_negative_train_samples=False,\n",
    "#     edge_types=(\"user\",\"rates\",\"movie\"),\n",
    "#     rev_edge_types=(\"movie\",\"rates\",\"user\")\n",
    "# )\n",
    "# train_data, val_data, test_data = transform(data)"
   ]
  },
  {
   "cell_type": "code",
   "execution_count": 243,
   "metadata": {},
   "outputs": [
    {
     "data": {
      "text/plain": [
       "' changed from edge_label_index to edge_index -> because we are using the whole graph for training,\\nno difference between edges used for supervision vs message passing '"
      ]
     },
     "execution_count": 243,
     "metadata": {},
     "output_type": "execute_result"
    }
   ],
   "source": [
    "# Minibatch loader\n",
    "edge_index = data[\"user\", \"rates\", \"movie\"].edge_index\n",
    "edge_label = data[\"user\", \"rates\", \"movie\"].edge_label\n",
    "\n",
    "train_loader = LinkNeighborLoader(\n",
    "    data=data,\n",
    "    num_neighbors=[10, 10],    # sample at most 10 neighbors in each hop\n",
    "    neg_sampling_ratio=1,\n",
    "    edge_label_index = ((\"user\",\"rates\",\"movie\"), edge_index),\n",
    "    edge_label=edge_label,\n",
    "    batch_size=128,\n",
    "    shuffle=True\n",
    ")\n",
    "\n",
    "\"\"\" changed from edge_label_index to edge_index -> because we are using the whole graph for training,\n",
    "no difference between edges used for supervision vs message passing \"\"\""
   ]
  },
  {
   "cell_type": "code",
   "execution_count": 279,
   "metadata": {},
   "outputs": [],
   "source": [
    "# Create GNN model\n",
    "class GNN(nn.Module):\n",
    "    def __init__(self,\n",
    "                 hidden_channels):\n",
    "        super().__init__()\n",
    "        self.conv1 = SAGEConv(hidden_channels, hidden_channels)\n",
    "        self.conv2 = SAGEConv(hidden_channels, hidden_channels)\n",
    "    def forward(self,\n",
    "                x           : torch.Tensor,\n",
    "                edge_index  : torch.Tensor) -> torch.Tensor:\n",
    "        x = F.relu(self.conv1(x, edge_index))\n",
    "        x = self.conv2(x, edge_index)\n",
    "        return x\n",
    "\n",
    "# Final classifier applies dot-product to source and destination\n",
    "class Regressor(nn.Module):\n",
    "    def forward(self,\n",
    "                x_user      : torch.Tensor,\n",
    "                x_movie     : torch.Tensor,\n",
    "                edge_label_index: torch.Tensor) -> torch.Tensor:\n",
    "\n",
    "        # Convert node embeddings to edge-level representations\n",
    "        src, dest = edge_label_index\n",
    "        \n",
    "        # Apply dot product\n",
    "        return (x_user[src] * x_movie[dest]).sum(dim=-1)\n",
    "    \n",
    "class Model(nn.Module):\n",
    "    def __init__(self,\n",
    "                 hidden_channels):\n",
    "        super().__init__()\n",
    "        \n",
    "        # Create embeddings\n",
    "        self.movie_embed = nn.Linear(20, hidden_channels)\n",
    "        self.user_embed  = nn.Linear(20, hidden_channels)\n",
    "\n",
    "        # GNN\n",
    "        self.gnn = GNN(hidden_channels)\n",
    "        self.gnn = to_hetero(self.gnn, metadata=data.metadata())\n",
    "        self.regressor = Regressor()\n",
    "    \n",
    "    def forward(self,\n",
    "                data: HeteroData) -> torch.Tensor:\n",
    "        # x_dict holds feature matrices of nodes\n",
    "        # edge_index_dict holdes edge indices\n",
    "        x_dict = {\n",
    "            \"user\": self.user_embed(data['user'].x),\n",
    "            'movie': self.movie_embed(data['movie'].x)\n",
    "        }\n",
    "        # print(x_dict['user'][0])\n",
    "\n",
    "        # Message passing\n",
    "        x_dict = self.gnn(x_dict, data.edge_index_dict)\n",
    "\n",
    "        # print(x_dict['user'][0])\n",
    "        # print(x_dict['user'].shape)\n",
    "        # print(x_dict['movie'].shape)\n",
    "        \n",
    "        # Get edge predictions\n",
    "        pred = self.regressor(\n",
    "            x_dict['user'],\n",
    "            x_dict['movie'],\n",
    "            data['user','rates','movie'].edge_index\n",
    "        )\n",
    "\n",
    "        return pred"
   ]
  },
  {
   "cell_type": "code",
   "execution_count": 280,
   "metadata": {},
   "outputs": [],
   "source": [
    "model = Model(hidden_channels=64)"
   ]
  },
  {
   "cell_type": "code",
   "execution_count": 281,
   "metadata": {},
   "outputs": [
    {
     "data": {
      "text/plain": [
       "torch.Size([100836])"
      ]
     },
     "execution_count": 281,
     "metadata": {},
     "output_type": "execute_result"
    }
   ],
   "source": [
    "test = model(data)\n",
    "test.shape"
   ]
  },
  {
   "cell_type": "code",
   "execution_count": 275,
   "metadata": {},
   "outputs": [
    {
     "data": {
      "text/plain": [
       "5942620"
      ]
     },
     "execution_count": 275,
     "metadata": {},
     "output_type": "execute_result"
    }
   ],
   "source": [
    "610 * 9742"
   ]
  },
  {
   "cell_type": "markdown",
   "metadata": {},
   "source": [
    "## Edge regression"
   ]
  },
  {
   "cell_type": "code",
   "execution_count": null,
   "metadata": {},
   "outputs": [],
   "source": [
    "self.mlp = nn.Sequential(\n",
    "    nn.Linear(2 * n_features + n_edge_features, hiddens),\n",
    "    nn.ReLU(),\n",
    "    nn.Linear(hiddens, n_targets)\n",
    ")\n",
    "\n",
    "row, col = edge_index\n",
    "new_edge_attr = self.mlp(torch.cat([x[row], x[col], edge_attr], dim=-1))"
   ]
  }
 ],
 "metadata": {
  "kernelspec": {
   "display_name": "Python 3",
   "language": "python",
   "name": "python3"
  },
  "language_info": {
   "codemirror_mode": {
    "name": "ipython",
    "version": 3
   },
   "file_extension": ".py",
   "mimetype": "text/x-python",
   "name": "python",
   "nbconvert_exporter": "python",
   "pygments_lexer": "ipython3",
   "version": "3.9.2"
  }
 },
 "nbformat": 4,
 "nbformat_minor": 2
}
